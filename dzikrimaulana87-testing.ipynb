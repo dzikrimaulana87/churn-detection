{
  "cells": [
    {
      "cell_type": "markdown",
      "metadata": {
        "id": "yyxrOxXc_Ayw"
      },
      "source": [
        "\n",
        "# 🔍 Notebook Pengujian Endpoint Flask Model"
      ]
    },
    {
      "cell_type": "code",
      "execution_count": null,
      "metadata": {
        "id": "fKHDLzCU-miU"
      },
      "outputs": [],
      "source": [
        "# URL endpoint Flask API\n",
        "API_URL = \"https://churn-detection-124339833986.asia-southeast1.run.app/predict\""
      ]
    },
    {
      "cell_type": "code",
      "execution_count": 3,
      "metadata": {
        "id": "8tPMAZyp_HrO"
      },
      "outputs": [],
      "source": [
        "\n",
        "# Contoh JSON valid berdasarkan model input (_xf)\n",
        "payload = {\n",
        "    \"tenure_xf\": [[0.4]],\n",
        "    \"MonthlyCharges_xf\": [[0.3]],\n",
        "    \"TotalCharges_xf\": [[0.5]],\n",
        "    \"gender_xf\": [[0.0, 1.0]],\n",
        "    \"Partner_xf\": [[1.0, 0.0]],\n",
        "    \"Dependents_xf\": [[1.0, 0.0]],\n",
        "    \"PhoneService_xf\": [[1.0, 0.0]],\n",
        "    \"MultipleLines_xf\": [[0.0, 1.0, 0.0]],\n",
        "    \"InternetService_xf\": [[0.0, 1.0, 0.0]],\n",
        "    \"OnlineSecurity_xf\": [[1.0, 0.0, 0.0]],\n",
        "    \"OnlineBackup_xf\": [[0.0, 0.0, 1.0]],\n",
        "    \"DeviceProtection_xf\": [[0.0, 0.0, 1.0]],\n",
        "    \"TechSupport_xf\": [[1.0, 0.0, 0.0]],\n",
        "    \"StreamingTV_xf\": [[0.0, 1.0, 0.0]],\n",
        "    \"StreamingMovies_xf\": [[0.0, 1.0, 0.0]],\n",
        "    \"Contract_xf\": [[1.0, 0.0, 0.0]],\n",
        "    \"PaperlessBilling_xf\": [[1.0, 0.0]],\n",
        "    \"PaymentMethod_xf\": [[0.0, 0.0, 1.0, 0.0]]\n",
        "}"
      ]
    },
    {
      "cell_type": "code",
      "execution_count": 4,
      "metadata": {
        "id": "-WrTctus_NJh"
      },
      "outputs": [
        {
          "name": "stdout",
          "output_type": "stream",
          "text": [
            "Status Code: 200\n",
            "Response JSON: {\n",
            "  \"prediction\": [\n",
            "    [\n",
            "      0.20229677855968475\n",
            "    ]\n",
            "  ]\n",
            "}\n"
          ]
        }
      ],
      "source": [
        "\n",
        "import requests\n",
        "import json\n",
        "\n",
        "# Kirim request ke API\n",
        "response = requests.post(API_URL, json=payload)\n",
        "\n",
        "# Tampilkan hasil prediksi\n",
        "print(\"Status Code:\", response.status_code)\n",
        "try:\n",
        "    print(\"Response JSON:\", json.dumps(response.json(), indent=2))\n",
        "except:\n",
        "    print(\"Response Text:\", response.text)"
      ]
    }
  ],
  "metadata": {
    "colab": {
      "provenance": []
    },
    "kernelspec": {
      "display_name": "venv",
      "language": "python",
      "name": "python3"
    },
    "language_info": {
      "codemirror_mode": {
        "name": "ipython",
        "version": 3
      },
      "file_extension": ".py",
      "mimetype": "text/x-python",
      "name": "python",
      "nbconvert_exporter": "python",
      "pygments_lexer": "ipython3",
      "version": "3.9.9"
    }
  },
  "nbformat": 4,
  "nbformat_minor": 0
}
